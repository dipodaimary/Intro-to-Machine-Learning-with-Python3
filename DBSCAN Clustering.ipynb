{
 "cells": [
  {
   "cell_type": "markdown",
   "metadata": {},
   "source": [
    "### Density-based spatial clustering of applications with noise \n",
    "Given a set of points in some space, it groups together points that are closely packed together. Points in a cluster are separted by a distance no more than a given epsilon (the threshold distance).\n",
    "Same cluster: we can hop from a given node to another by hopping no more than epsilon => the points are in the same cluster.\n",
    "\n",
    "Advantages:\n",
    "1. Finds non-linearly separable clusters (arbitarily shaped clusters)\n",
    "2. In DBSCAN we don't have to manually set the number of clusters, unlike in K-Means\n",
    "3. Very robust to outliers\n",
    "4. Resutl does not depend on the starting conditions\n",
    "5. Parameters: epsilon (minimum distance), minimum number of neighnours\n",
    "6. O(log N) runtime!!!\n",
    "\n",
    "Disadvantages:\n",
    "1. DBSCAN is not entirely deterministic,\n",
    "2. For higher dimensions very hard to find proper epsilon\n",
    "3. If the data and scale are not well understood -> choosing a meaningful epsilon can be difficult"
   ]
  },
  {
   "cell_type": "code",
   "execution_count": null,
   "metadata": {
    "collapsed": true
   },
   "outputs": [],
   "source": []
  }
 ],
 "metadata": {
  "kernelspec": {
   "display_name": "Python 3",
   "language": "python",
   "name": "python3"
  },
  "language_info": {
   "codemirror_mode": {
    "name": "ipython",
    "version": 3
   },
   "file_extension": ".py",
   "mimetype": "text/x-python",
   "name": "python",
   "nbconvert_exporter": "python",
   "pygments_lexer": "ipython3",
   "version": "3.6.3"
  }
 },
 "nbformat": 4,
 "nbformat_minor": 2
}
