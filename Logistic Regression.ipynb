{
 "cells": [
  {
   "cell_type": "markdown",
   "metadata": {},
   "source": [
    "### Introduction to Logistic Regression "
   ]
  },
  {
   "cell_type": "code",
   "execution_count": 6,
   "metadata": {
    "collapsed": true
   },
   "outputs": [],
   "source": [
    "%matplotlib inline\n",
    "import numpy as np\n",
    "from matplotlib import pyplot as plt\n",
    "from sklearn.linear_model import LogisticRegression"
   ]
  },
  {
   "cell_type": "markdown",
   "metadata": {},
   "source": [
    "### Sigmoid\n",
    "$$p(i) = \\frac{1}{1+e^{-(b_0+b_1*x)}}$$"
   ]
  },
  {
   "cell_type": "code",
   "execution_count": 25,
   "metadata": {},
   "outputs": [
    {
     "data": {
      "text/plain": [
       "[-2, 10, -0.5, 2]"
      ]
     },
     "execution_count": 25,
     "metadata": {},
     "output_type": "execute_result"
    },
    {
     "data": {
      "image/png": "[encoded data removed]",
      "text/plain": [
       "<matplotlib.figure.Figure at 0x7fd9198884a8>"
      ]
     },
     "metadata": {},
     "output_type": "display_data"
    }
   ],
   "source": [
    "x1 = np.array([0,0.6,1.1,1.5,1.8,2.5,3,3.1,3.9,4,4.9,5,5.1])\n",
    "y1 = np.array([0,0,0,0,0,0,0,0,0,0,0,0,0])\n",
    "x2 = np.array([3,3.8,4.4,5.2,5.5,6.5,6,6.1,6.9,7,7.9,8,8.1])\n",
    "y2 = np.array([1,1,1,1,1,1,1,1,1,1,1,1,1])\n",
    "\n",
    "X = np.array([[0],[0.6],[1.1],[1.5],[1.8],[2.5],[3],[3.1],[3.9],[4],[4.9],[5],[5.1],[3],[3.8],[4.4],[5.2],[5.5],[6.5],[6],[6.1],[6.9],[7],[7.9],[8],[8.1]])\n",
    "y = np.array([0,0,0,0,0,0,0,0,0,0,0,0,0,1,1,1,1,1,1,1,1,1,1,1,1,1])\n",
    "\n",
    "plt.plot(x1,y1,'ro',color='blue')\n",
    "plt.plot(x2,y2,'ro',color='red')\n",
    "plt.axis([-2,10,-0.5,2])"
   ]
  },
  {
   "cell_type": "code",
   "execution_count": 21,
   "metadata": {},
   "outputs": [
    {
     "name": "stdout",
     "output_type": "stream",
     "text": [
      "[[ 0.12407126  0.87592874]]\n"
     ]
    }
   ],
   "source": [
    "classifier = LogisticRegression()\n",
    "classifier.fit(X,y)\n",
    "pred  = classifier.predict_proba(8)\n",
    "print(pred)"
   ]
  },
  {
   "cell_type": "code",
   "execution_count": 30,
   "metadata": {},
   "outputs": [
    {
     "data": {
      "text/plain": [
       "[-2, 10, -0.5, 2]"
      ]
     },
     "execution_count": 30,
     "metadata": {},
     "output_type": "execute_result"
    },
    {
     "data": {
      "image/png": "[encoded data removed]",
      "text/plain": [
       "<matplotlib.figure.Figure at 0x7fd9196381d0>"
      ]
     },
     "metadata": {},
     "output_type": "display_data"
    }
   ],
   "source": [
    "def model(classifier,x):\n",
    "    return 1/(1+np.exp(-(classifier.intercept_ + classifier.coef_*x)))\n",
    "\n",
    "for i in range(1,120,1):\n",
    "    plt.plot(i/10.0-2,model(classifier,i/10.0-2),'ro',color='green')\n",
    "plt.plot(x1,y1,'ro',color='blue')\n",
    "plt.plot(x2,y2,'ro',color='red')\n",
    "plt.axis([-2,10,-0.5,2])"
   ]
  },
  {
   "cell_type": "markdown",
   "metadata": {},
   "source": [
    "### Example 2: Can pay debt or not:\n",
    "<table>\n",
    "    <tr>\n",
    "        <td>\n",
    "        balance\n",
    "        </td>\n",
    "        <td>\n",
    "        income\n",
    "        </td>\n",
    "        <td>\n",
    "        age\n",
    "        </td>\n",
    "        <td>\n",
    "        can_pay_debt\n",
    "        </td>\n",
    "    </tr>\n",
    "    <tr>\n",
    "        <td>\n",
    "        10,000\n",
    "        </td>\n",
    "        <td>\n",
    "        80,000\n",
    "        </td>\n",
    "        <td>\n",
    "        35\n",
    "        </td>\n",
    "        <td>\n",
    "        1\n",
    "        </td>\n",
    "    </tr>\n",
    "    <tr>\n",
    "        <td>\n",
    "        7,000\n",
    "        </td>\n",
    "        <td>\n",
    "        120,000\n",
    "        </td>\n",
    "        <td>\n",
    "        57\n",
    "        </td>\n",
    "        <td>\n",
    "        1\n",
    "        </td>\n",
    "    </tr>\n",
    "    <tr>\n",
    "        <td>\n",
    "        100\n",
    "        </td>\n",
    "        <td>\n",
    "        23,000\n",
    "        </td>\n",
    "        <td>\n",
    "        22\n",
    "        </td>\n",
    "        <td>\n",
    "        0\n",
    "        </td>\n",
    "    </tr>\n",
    "    <tr>\n",
    "        <td>\n",
    "        223\n",
    "        </td>\n",
    "        <td>\n",
    "        18,000\n",
    "        </td>\n",
    "        <td>\n",
    "        26\n",
    "        </td>\n",
    "        <td>\n",
    "        0\n",
    "        </td>\n",
    "    </tr>\n",
    "</table>"
   ]
  },
  {
   "cell_type": "code",
   "execution_count": 37,
   "metadata": {},
   "outputs": [
    {
     "name": "stdout",
     "output_type": "stream",
     "text": [
      "[1]\n"
     ]
    }
   ],
   "source": [
    "X = np.array([[10000,80000,35],[7000,120000,57],[100,23000,22],[223,18000,26]])\n",
    "Y = np.array([1,1,0,0])\n",
    "classifier = LogisticRegression()\n",
    "classifier.fit(X,Y)\n",
    "print(classifier.predict([[5500,50000,25]]) )"
   ]
  },
  {
   "cell_type": "markdown",
   "metadata": {},
   "source": [
    "### Expriment on a 2000 rows dataset "
   ]
  },
  {
   "cell_type": "code",
   "execution_count": 41,
   "metadata": {},
   "outputs": [],
   "source": [
    "import numpy as np\n",
    "import pandas as pd\n",
    "from matplotlib import pyplot as plt\n",
    "from sklearn.linear_model import LogisticRegression\n",
    "from sklearn.cross_validation import train_test_split\n",
    "from sklearn.metrics import confusion_matrix\n",
    "from sklearn.metrics import accuracy_score"
   ]
  },
  {
   "cell_type": "code",
   "execution_count": 46,
   "metadata": {},
   "outputs": [
    {
     "name": "stdout",
     "output_type": "stream",
     "text": [
      "   clientid        income        age         loan       LTI  default10yr\n",
      "0         1  66155.925095  59.017015  8106.532131  0.122537            0\n",
      "1         2  34415.153966  48.117153  6564.745018  0.190752            0\n",
      "2         3  57317.170063  63.108049  8020.953296  0.139940            0\n",
      "3         4  42709.534201  45.751972  6103.642260  0.142911            0\n",
      "4         5  66952.688845  18.584336  8770.099235  0.130989            1\n"
     ]
    }
   ],
   "source": [
    "creditData = pd.read_csv('data.csv')\n",
    "print(creditData.head())"
   ]
  },
  {
   "cell_type": "code",
   "execution_count": 48,
   "metadata": {},
   "outputs": [
    {
     "name": "stdout",
     "output_type": "stream",
     "text": [
      "          clientid        income          age          loan          LTI  \\\n",
      "count  2000.000000   2000.000000  2000.000000   2000.000000  2000.000000   \n",
      "mean   1000.500000  45331.600018    40.927143   4444.369695     0.098403   \n",
      "std     577.494589  14326.327119    13.262450   3045.410024     0.057620   \n",
      "min       1.000000  20014.489470    18.055189      1.377630     0.000049   \n",
      "25%     500.750000  32796.459717    29.062492   1939.708847     0.047903   \n",
      "50%    1000.500000  45789.117313    41.382673   3974.719419     0.099437   \n",
      "75%    1500.250000  57791.281668    52.596993   6432.410625     0.147585   \n",
      "max    2000.000000  69995.685578    63.971796  13766.051239     0.199938   \n",
      "\n",
      "       default10yr  \n",
      "count  2000.000000  \n",
      "mean      0.141500  \n",
      "std       0.348624  \n",
      "min       0.000000  \n",
      "25%       0.000000  \n",
      "50%       0.000000  \n",
      "75%       0.000000  \n",
      "max       1.000000  \n"
     ]
    }
   ],
   "source": [
    "print(creditData.describe())"
   ]
  },
  {
   "cell_type": "code",
   "execution_count": 51,
   "metadata": {},
   "outputs": [
    {
     "name": "stdout",
     "output_type": "stream",
     "text": [
      "             clientid    income       age      loan       LTI  default10yr\n",
      "clientid     1.000000  0.039280 -0.030341  0.018931  0.002538    -0.020145\n",
      "income       0.039280  1.000000 -0.034984  0.441117 -0.019862     0.002284\n",
      "age         -0.030341 -0.034984  1.000000  0.006561  0.021588    -0.444765\n",
      "loan         0.018931  0.441117  0.006561  1.000000  0.847495     0.377160\n",
      "LTI          0.002538 -0.019862  0.021588  0.847495  1.000000     0.433261\n",
      "default10yr -0.020145  0.002284 -0.444765  0.377160  0.433261     1.000000\n"
     ]
    }
   ],
   "source": [
    "print(creditData.corr())"
   ]
  },
  {
   "cell_type": "code",
   "execution_count": 55,
   "metadata": {
    "collapsed": true
   },
   "outputs": [],
   "source": [
    "features = creditData[[\"income\",\"age\",\"loan\"]]\n",
    "targetVariable = creditData.default10yr"
   ]
  },
  {
   "cell_type": "markdown",
   "metadata": {},
   "source": [
    "### Training, Test subsets"
   ]
  },
  {
   "cell_type": "code",
   "execution_count": 58,
   "metadata": {},
   "outputs": [],
   "source": [
    "featureTrain, featureTest, targetTrain, targetTest = train_test_split(features,targetVariable,test_size=0.2)"
   ]
  },
  {
   "cell_type": "markdown",
   "metadata": {},
   "source": [
    "### Model "
   ]
  },
  {
   "cell_type": "code",
   "execution_count": 65,
   "metadata": {
    "collapsed": true
   },
   "outputs": [],
   "source": [
    "model = LogisticRegression()\n",
    "fittedModel = model.fit(featureTrain,targetTrain)\n",
    "#testing\n",
    "predictions = fittedModel.predict(featureTest)"
   ]
  },
  {
   "cell_type": "markdown",
   "metadata": {},
   "source": [
    "### Print confusion matrix for the target "
   ]
  },
  {
   "cell_type": "code",
   "execution_count": 68,
   "metadata": {},
   "outputs": [
    {
     "name": "stdout",
     "output_type": "stream",
     "text": [
      "[[330  13]\n",
      " [ 33  24]]\n"
     ]
    }
   ],
   "source": [
    "print(confusion_matrix(targetTest,predictions))"
   ]
  },
  {
   "cell_type": "markdown",
   "metadata": {},
   "source": [
    "### Print accuracy "
   ]
  },
  {
   "cell_type": "code",
   "execution_count": 67,
   "metadata": {},
   "outputs": [
    {
     "name": "stdout",
     "output_type": "stream",
     "text": [
      "0.885\n"
     ]
    }
   ],
   "source": [
    "print(accuracy_score(targetTest,predictions))"
   ]
  }
 ],
 "metadata": {
  "kernelspec": {
   "display_name": "Python 3",
   "language": "python",
   "name": "python3"
  },
  "language_info": {
   "codemirror_mode": {
    "name": "ipython",
    "version": 3
   },
   "file_extension": ".py",
   "mimetype": "text/x-python",
   "name": "python",
   "nbconvert_exporter": "python",
   "pygments_lexer": "ipython3",
   "version": "3.6.3"
  }
 },
 "nbformat": 4,
 "nbformat_minor": 2
}
